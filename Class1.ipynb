{
 "cells": [
  {
   "cell_type": "code",
   "execution_count": 3,
   "id": "999725a2",
   "metadata": {},
   "outputs": [],
   "source": [
    "# instructor sent out jupyter notebook summary after class (today = 05APR2022)"
   ]
  },
  {
   "cell_type": "code",
   "execution_count": 2,
   "id": "69fcc642",
   "metadata": {},
   "outputs": [
    {
     "data": {
      "text/plain": [
       "[0, 'odd', 2, 'odd', 4, 'odd', 6, 'odd', 8, 'odd']"
      ]
     },
     "execution_count": 2,
     "metadata": {},
     "output_type": "execute_result"
    }
   ],
   "source": [
    "[bob if bob % 2 == 0 else 'odd' for bob in range(0,10)]"
   ]
  },
  {
   "cell_type": "code",
   "execution_count": null,
   "id": "a642ef60",
   "metadata": {},
   "outputs": [],
   "source": []
  }
 ],
 "metadata": {
  "kernelspec": {
   "display_name": "Python 3 (ipykernel)",
   "language": "python",
   "name": "python3"
  },
  "language_info": {
   "codemirror_mode": {
    "name": "ipython",
    "version": 3
   },
   "file_extension": ".py",
   "mimetype": "text/x-python",
   "name": "python",
   "nbconvert_exporter": "python",
   "pygments_lexer": "ipython3",
   "version": "3.7.11"
  }
 },
 "nbformat": 4,
 "nbformat_minor": 5
}
